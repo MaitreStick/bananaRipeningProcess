{
  "cells": [
    {
      "cell_type": "code",
      "execution_count": null,
      "metadata": {
        "id": "mk5SFZ9g_QzO"
      },
      "outputs": [],
      "source": [
        "from google.colab import drive\n",
        "drive.mount('/content/drive')"
      ]
    },
    {
      "cell_type": "code",
      "execution_count": null,
      "metadata": {
        "id": "S0_SpRfP-2GH"
      },
      "outputs": [],
      "source": [
        "import tensorflow as tf\n",
        "from tensorflow.keras.preprocessing import image\n",
        "import numpy as np\n",
        "\n",
        "# Load the model\n",
        "model = tf.keras.models.load_model('/content/drive/MyDrive/artificial_intelligence/Banana_Ripening_Process/model2.h5')  # Asegúrate de reemplazar 'ruta/al/modelo/modelo_entrenado.keras' con la ruta real de tu modelo\n",
        "\n",
        "# Image path\n",
        "img_path = '/content/drive/MyDrive/artificial_intelligence/Banana_Ripening_Process/classes/ freshunripe/musa-acuminata-banana-ae901e71-4037-11ec-89ee-94b86d66fd1d_jpg.rf.d49671932bbf1c13ec1552bfb7f163d9.jpg'  # Asegúrate de reemplazar 'ruta/a/la/imagen/de/prueba.jpg' con la ruta real de tu imagen\n",
        "\n",
        "# Load and prepare the image for inference\n",
        "img = image.load_img(img_path, target_size=(224, 224))\n",
        "img_array = image.img_to_array(img)\n",
        "img_array = np.expand_dims(img_array, axis=0)\n",
        "img_array = img_array / 255.  # Normaliza la imagen\n",
        "\n",
        "# Performs the prediction\n",
        "predictions = model.predict(img_array)\n",
        "\n",
        "# Define a class dictionary\n",
        "class_dict = {0: 'freshripe', 1: 'freshunripe', 2: 'overripe', 3: 'ripe', 4: 'rotten'}  # Actualiza con tus propias clases\n",
        "\n",
        "# Obtain the index of the class with the highest probability\n",
        "predicted_class_index = np.argmax(predictions)\n",
        "\n",
        "# Get the predicted class\n",
        "predicted_class = class_dict[predicted_class_index]\n",
        "\n",
        "print(\"La clase con la mayor probabilidad es:\", predicted_class)\n",
        "\n",
        "print(predictions)"
      ]
    }
  ],
  "metadata": {
    "colab": {
      "provenance": []
    },
    "kernelspec": {
      "display_name": "Python 3",
      "name": "python3"
    },
    "language_info": {
      "name": "python"
    }
  },
  "nbformat": 4,
  "nbformat_minor": 0
}
